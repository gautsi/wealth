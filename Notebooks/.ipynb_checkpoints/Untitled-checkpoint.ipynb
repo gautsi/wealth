{
 "cells": [
  {
   "cell_type": "code",
   "execution_count": 23,
   "metadata": {},
   "outputs": [],
   "source": [
    "import numpy as np\n",
    "import pandas as pd\n",
    "import matplotlib.pyplot as plt\n",
    "%matplotlib inline"
   ]
  },
  {
   "cell_type": "code",
   "execution_count": 100,
   "metadata": {},
   "outputs": [],
   "source": [
    "def fix_to_range(num, minimum, maximum):\n",
    "    return minimum if num < minimum else maximum if num > maximum else num\n",
    "\n",
    "class WealthSim(object):\n",
    "    def __init__(self, pop=1000, start_wealth=1):\n",
    "        self.pop = pop\n",
    "        self.start_wealth = start_wealth\n",
    "        self.time_step = 0\n",
    "        self.wealth_fields_order = [\"person\", \"time_step\", \"wealth\"]\n",
    "        self.wealths = pd.DataFrame(\n",
    "            [\n",
    "                {\"person\": i, \"wealth\": self.start_wealth, \"time_step\": self.time_step} for i in range(self.pop)])[self.wealth_fields_order]\n",
    "        \n",
    "    def evolve(self, wealth):\n",
    "        pcnt_change = np.random.normal(loc=0, scale=0.1)\n",
    "        return wealth + fix_to_range(pcnt_change, -1, 1) * wealth\n",
    "    \n",
    "    def step(self, n=1):\n",
    "        if n == 0:\n",
    "            return None\n",
    "        curr_wealths = self.wealths[self.wealths.time_step == self.time_step]\n",
    "        curr_wealths[\"wealth\"] = curr_wealths.wealth.map(self.evolve)\n",
    "        self.wealths = pd.concat([self.wealths, curr_wealths.assign(time_step = self.time_step + 1)[self.wealth_fields_order]])\n",
    "        self.time_step = self.time_step + 1\n",
    "        self.step(n-1)"
   ]
  },
  {
   "cell_type": "code",
   "execution_count": 101,
   "metadata": {},
   "outputs": [],
   "source": [
    "sim = WealthSim()"
   ]
  },
  {
   "cell_type": "code",
   "execution_count": 102,
   "metadata": {},
   "outputs": [
    {
     "name": "stderr",
     "output_type": "stream",
     "text": [
      "/dockvol/wealth_ineq_sim/.venv/lib/python3.6/site-packages/ipykernel_launcher.py:22: SettingWithCopyWarning: \n",
      "A value is trying to be set on a copy of a slice from a DataFrame.\n",
      "Try using .loc[row_indexer,col_indexer] = value instead\n",
      "\n",
      "See the caveats in the documentation: https://pandas.pydata.org/pandas-docs/stable/user_guide/indexing.html#returning-a-view-versus-a-copy\n"
     ]
    }
   ],
   "source": [
    "sim.step(100)"
   ]
  },
  {
   "cell_type": "code",
   "execution_count": 103,
   "metadata": {},
   "outputs": [
    {
     "data": {
      "text/html": [
       "<div>\n",
       "<style scoped>\n",
       "    .dataframe tbody tr th:only-of-type {\n",
       "        vertical-align: middle;\n",
       "    }\n",
       "\n",
       "    .dataframe tbody tr th {\n",
       "        vertical-align: top;\n",
       "    }\n",
       "\n",
       "    .dataframe thead th {\n",
       "        text-align: right;\n",
       "    }\n",
       "</style>\n",
       "<table border=\"1\" class=\"dataframe\">\n",
       "  <thead>\n",
       "    <tr style=\"text-align: right;\">\n",
       "      <th></th>\n",
       "      <th>person</th>\n",
       "      <th>time_step</th>\n",
       "      <th>wealth</th>\n",
       "    </tr>\n",
       "  </thead>\n",
       "  <tbody>\n",
       "    <tr>\n",
       "      <th>0</th>\n",
       "      <td>0</td>\n",
       "      <td>0</td>\n",
       "      <td>1.000000</td>\n",
       "    </tr>\n",
       "    <tr>\n",
       "      <th>1</th>\n",
       "      <td>1</td>\n",
       "      <td>0</td>\n",
       "      <td>1.000000</td>\n",
       "    </tr>\n",
       "    <tr>\n",
       "      <th>2</th>\n",
       "      <td>2</td>\n",
       "      <td>0</td>\n",
       "      <td>1.000000</td>\n",
       "    </tr>\n",
       "    <tr>\n",
       "      <th>3</th>\n",
       "      <td>3</td>\n",
       "      <td>0</td>\n",
       "      <td>1.000000</td>\n",
       "    </tr>\n",
       "    <tr>\n",
       "      <th>4</th>\n",
       "      <td>4</td>\n",
       "      <td>0</td>\n",
       "      <td>1.000000</td>\n",
       "    </tr>\n",
       "    <tr>\n",
       "      <th>...</th>\n",
       "      <td>...</td>\n",
       "      <td>...</td>\n",
       "      <td>...</td>\n",
       "    </tr>\n",
       "    <tr>\n",
       "      <th>995</th>\n",
       "      <td>995</td>\n",
       "      <td>100</td>\n",
       "      <td>0.398690</td>\n",
       "    </tr>\n",
       "    <tr>\n",
       "      <th>996</th>\n",
       "      <td>996</td>\n",
       "      <td>100</td>\n",
       "      <td>0.628161</td>\n",
       "    </tr>\n",
       "    <tr>\n",
       "      <th>997</th>\n",
       "      <td>997</td>\n",
       "      <td>100</td>\n",
       "      <td>0.226708</td>\n",
       "    </tr>\n",
       "    <tr>\n",
       "      <th>998</th>\n",
       "      <td>998</td>\n",
       "      <td>100</td>\n",
       "      <td>0.346139</td>\n",
       "    </tr>\n",
       "    <tr>\n",
       "      <th>999</th>\n",
       "      <td>999</td>\n",
       "      <td>100</td>\n",
       "      <td>0.731134</td>\n",
       "    </tr>\n",
       "  </tbody>\n",
       "</table>\n",
       "<p>101000 rows × 3 columns</p>\n",
       "</div>"
      ],
      "text/plain": [
       "     person  time_step    wealth\n",
       "0         0          0  1.000000\n",
       "1         1          0  1.000000\n",
       "2         2          0  1.000000\n",
       "3         3          0  1.000000\n",
       "4         4          0  1.000000\n",
       "..      ...        ...       ...\n",
       "995     995        100  0.398690\n",
       "996     996        100  0.628161\n",
       "997     997        100  0.226708\n",
       "998     998        100  0.346139\n",
       "999     999        100  0.731134\n",
       "\n",
       "[101000 rows x 3 columns]"
      ]
     },
     "execution_count": 103,
     "metadata": {},
     "output_type": "execute_result"
    }
   ],
   "source": [
    "sim.wealths"
   ]
  },
  {
   "cell_type": "code",
   "execution_count": 104,
   "metadata": {},
   "outputs": [
    {
     "data": {
      "image/png": "[encoded data removed]",
      "text/plain": [
       "<Figure size 720x360 with 1 Axes>"
      ]
     },
     "metadata": {
      "needs_background": "light"
     },
     "output_type": "display_data"
    }
   ],
   "source": [
    "fig, ax = plt.subplots(figsize=(10,5))\n",
    "for person in sim.wealths.person.unique():\n",
    "    wealths = sim.wealths[sim.wealths.person == person].sort_values(\"time_step\")\n",
    "    ax.plot(wealths.time_step, wealths.wealth, color=\"steelblue\", alpha=0.1)"
   ]
  },
  {
   "cell_type": "code",
   "execution_count": 105,
   "metadata": {},
   "outputs": [
    {
     "data": {
      "text/plain": [
       "(array([974.,  23.,   2.,   0.,   0.,   0.,   0.,   0.,   0.,   1.]),\n",
       " array([2.05643469e-02, 4.86485491e+00, 9.70914548e+00, 1.45534360e+01,\n",
       "        1.93977266e+01, 2.42420172e+01, 2.90863077e+01, 3.39305983e+01,\n",
       "        3.87748889e+01, 4.36191794e+01, 4.84634700e+01]),\n",
       " <a list of 10 Patch objects>)"
      ]
     },
     "execution_count": 105,
     "metadata": {},
     "output_type": "execute_result"
    },
    {
     "data": {
      "image/png": "[encoded data removed]",
      "text/plain": [
       "<Figure size 720x360 with 1 Axes>"
      ]
     },
     "metadata": {
      "needs_background": "light"
     },
     "output_type": "display_data"
    }
   ],
   "source": [
    "fig, ax = plt.subplots(figsize=(10,5))\n",
    "ax.hist(sim.wealths[sim.wealths.time_step == sim.time_step].wealth)"
   ]
  },
  {
   "cell_type": "code",
   "execution_count": 106,
   "metadata": {},
   "outputs": [],
   "source": [
    "sim.wealths[\"pct_rank\"] = sim.wealths.groupby([\"time_step\"]).wealth.rank(pct=True)"
   ]
  },
  {
   "cell_type": "code",
   "execution_count": 107,
   "metadata": {},
   "outputs": [
    {
     "data": {
      "text/html": [
       "<div>\n",
       "<style scoped>\n",
       "    .dataframe tbody tr th:only-of-type {\n",
       "        vertical-align: middle;\n",
       "    }\n",
       "\n",
       "    .dataframe tbody tr th {\n",
       "        vertical-align: top;\n",
       "    }\n",
       "\n",
       "    .dataframe thead th {\n",
       "        text-align: right;\n",
       "    }\n",
       "</style>\n",
       "<table border=\"1\" class=\"dataframe\">\n",
       "  <thead>\n",
       "    <tr style=\"text-align: right;\">\n",
       "      <th></th>\n",
       "      <th>person</th>\n",
       "      <th>time_step</th>\n",
       "      <th>wealth</th>\n",
       "      <th>pct_rank</th>\n",
       "    </tr>\n",
       "  </thead>\n",
       "  <tbody>\n",
       "    <tr>\n",
       "      <th>0</th>\n",
       "      <td>0</td>\n",
       "      <td>0</td>\n",
       "      <td>1.000000</td>\n",
       "      <td>0.5005</td>\n",
       "    </tr>\n",
       "    <tr>\n",
       "      <th>1</th>\n",
       "      <td>1</td>\n",
       "      <td>0</td>\n",
       "      <td>1.000000</td>\n",
       "      <td>0.5005</td>\n",
       "    </tr>\n",
       "    <tr>\n",
       "      <th>2</th>\n",
       "      <td>2</td>\n",
       "      <td>0</td>\n",
       "      <td>1.000000</td>\n",
       "      <td>0.5005</td>\n",
       "    </tr>\n",
       "    <tr>\n",
       "      <th>3</th>\n",
       "      <td>3</td>\n",
       "      <td>0</td>\n",
       "      <td>1.000000</td>\n",
       "      <td>0.5005</td>\n",
       "    </tr>\n",
       "    <tr>\n",
       "      <th>4</th>\n",
       "      <td>4</td>\n",
       "      <td>0</td>\n",
       "      <td>1.000000</td>\n",
       "      <td>0.5005</td>\n",
       "    </tr>\n",
       "    <tr>\n",
       "      <th>...</th>\n",
       "      <td>...</td>\n",
       "      <td>...</td>\n",
       "      <td>...</td>\n",
       "      <td>...</td>\n",
       "    </tr>\n",
       "    <tr>\n",
       "      <th>995</th>\n",
       "      <td>995</td>\n",
       "      <td>100</td>\n",
       "      <td>0.398690</td>\n",
       "      <td>0.3480</td>\n",
       "    </tr>\n",
       "    <tr>\n",
       "      <th>996</th>\n",
       "      <td>996</td>\n",
       "      <td>100</td>\n",
       "      <td>0.628161</td>\n",
       "      <td>0.5160</td>\n",
       "    </tr>\n",
       "    <tr>\n",
       "      <th>997</th>\n",
       "      <td>997</td>\n",
       "      <td>100</td>\n",
       "      <td>0.226708</td>\n",
       "      <td>0.1740</td>\n",
       "    </tr>\n",
       "    <tr>\n",
       "      <th>998</th>\n",
       "      <td>998</td>\n",
       "      <td>100</td>\n",
       "      <td>0.346139</td>\n",
       "      <td>0.3030</td>\n",
       "    </tr>\n",
       "    <tr>\n",
       "      <th>999</th>\n",
       "      <td>999</td>\n",
       "      <td>100</td>\n",
       "      <td>0.731134</td>\n",
       "      <td>0.5820</td>\n",
       "    </tr>\n",
       "  </tbody>\n",
       "</table>\n",
       "<p>101000 rows × 4 columns</p>\n",
       "</div>"
      ],
      "text/plain": [
       "     person  time_step    wealth  pct_rank\n",
       "0         0          0  1.000000    0.5005\n",
       "1         1          0  1.000000    0.5005\n",
       "2         2          0  1.000000    0.5005\n",
       "3         3          0  1.000000    0.5005\n",
       "4         4          0  1.000000    0.5005\n",
       "..      ...        ...       ...       ...\n",
       "995     995        100  0.398690    0.3480\n",
       "996     996        100  0.628161    0.5160\n",
       "997     997        100  0.226708    0.1740\n",
       "998     998        100  0.346139    0.3030\n",
       "999     999        100  0.731134    0.5820\n",
       "\n",
       "[101000 rows x 4 columns]"
      ]
     },
     "execution_count": 107,
     "metadata": {},
     "output_type": "execute_result"
    }
   ],
   "source": [
    "sim.wealths"
   ]
  },
  {
   "cell_type": "code",
   "execution_count": 108,
   "metadata": {},
   "outputs": [
    {
     "data": {
      "image/png": "[encoded data removed]",
      "text/plain": [
       "<Figure size 720x360 with 1 Axes>"
      ]
     },
     "metadata": {
      "needs_background": "light"
     },
     "output_type": "display_data"
    }
   ],
   "source": [
    "fig, ax = plt.subplots(figsize=(10,5))\n",
    "for person in sim.wealths.person.unique():\n",
    "    wealths = sim.wealths[sim.wealths.person == person].sort_values(\"time_step\")\n",
    "    ax.scatter(wealths.time_step, wealths.wealth, c=wealths.pct_rank, s=1, alpha=0.1)"
   ]
  },
  {
   "cell_type": "code",
   "execution_count": 109,
   "metadata": {},
   "outputs": [],
   "source": [
    "def group(pct_rank):\n",
    "    if pct_rank < 0.5:\n",
    "        return \"lower\"\n",
    "    if pct_rank > 0.9:\n",
    "        return \"higher\"\n",
    "    else:\n",
    "        return \"middle\""
   ]
  },
  {
   "cell_type": "code",
   "execution_count": 110,
   "metadata": {},
   "outputs": [],
   "source": [
    "sim.wealths[\"class\"] = sim.wealths.pct_rank.map(group)"
   ]
  },
  {
   "cell_type": "code",
   "execution_count": 111,
   "metadata": {},
   "outputs": [],
   "source": [
    "classes = sim.wealths.groupby([\"time_step\", \"class\"], as_index = False).wealth.sum()"
   ]
  },
  {
   "cell_type": "code",
   "execution_count": 112,
   "metadata": {},
   "outputs": [
    {
     "data": {
      "text/html": [
       "<div>\n",
       "<style scoped>\n",
       "    .dataframe tbody tr th:only-of-type {\n",
       "        vertical-align: middle;\n",
       "    }\n",
       "\n",
       "    .dataframe tbody tr th {\n",
       "        vertical-align: top;\n",
       "    }\n",
       "\n",
       "    .dataframe thead th {\n",
       "        text-align: right;\n",
       "    }\n",
       "</style>\n",
       "<table border=\"1\" class=\"dataframe\">\n",
       "  <thead>\n",
       "    <tr style=\"text-align: right;\">\n",
       "      <th></th>\n",
       "      <th>time_step</th>\n",
       "      <th>class</th>\n",
       "      <th>wealth</th>\n",
       "    </tr>\n",
       "  </thead>\n",
       "  <tbody>\n",
       "    <tr>\n",
       "      <th>0</th>\n",
       "      <td>0</td>\n",
       "      <td>middle</td>\n",
       "      <td>1000.000000</td>\n",
       "    </tr>\n",
       "    <tr>\n",
       "      <th>1</th>\n",
       "      <td>1</td>\n",
       "      <td>higher</td>\n",
       "      <td>117.484708</td>\n",
       "    </tr>\n",
       "    <tr>\n",
       "      <th>2</th>\n",
       "      <td>1</td>\n",
       "      <td>lower</td>\n",
       "      <td>459.033537</td>\n",
       "    </tr>\n",
       "    <tr>\n",
       "      <th>3</th>\n",
       "      <td>1</td>\n",
       "      <td>middle</td>\n",
       "      <td>422.875910</td>\n",
       "    </tr>\n",
       "    <tr>\n",
       "      <th>4</th>\n",
       "      <td>2</td>\n",
       "      <td>higher</td>\n",
       "      <td>124.071891</td>\n",
       "    </tr>\n",
       "    <tr>\n",
       "      <th>...</th>\n",
       "      <td>...</td>\n",
       "      <td>...</td>\n",
       "      <td>...</td>\n",
       "    </tr>\n",
       "    <tr>\n",
       "      <th>296</th>\n",
       "      <td>99</td>\n",
       "      <td>lower</td>\n",
       "      <td>156.464277</td>\n",
       "    </tr>\n",
       "    <tr>\n",
       "      <th>297</th>\n",
       "      <td>99</td>\n",
       "      <td>middle</td>\n",
       "      <td>446.765302</td>\n",
       "    </tr>\n",
       "    <tr>\n",
       "      <th>298</th>\n",
       "      <td>100</td>\n",
       "      <td>higher</td>\n",
       "      <td>456.780684</td>\n",
       "    </tr>\n",
       "    <tr>\n",
       "      <th>299</th>\n",
       "      <td>100</td>\n",
       "      <td>lower</td>\n",
       "      <td>156.482404</td>\n",
       "    </tr>\n",
       "    <tr>\n",
       "      <th>300</th>\n",
       "      <td>100</td>\n",
       "      <td>middle</td>\n",
       "      <td>444.599571</td>\n",
       "    </tr>\n",
       "  </tbody>\n",
       "</table>\n",
       "<p>301 rows × 3 columns</p>\n",
       "</div>"
      ],
      "text/plain": [
       "     time_step   class       wealth\n",
       "0            0  middle  1000.000000\n",
       "1            1  higher   117.484708\n",
       "2            1   lower   459.033537\n",
       "3            1  middle   422.875910\n",
       "4            2  higher   124.071891\n",
       "..         ...     ...          ...\n",
       "296         99   lower   156.464277\n",
       "297         99  middle   446.765302\n",
       "298        100  higher   456.780684\n",
       "299        100   lower   156.482404\n",
       "300        100  middle   444.599571\n",
       "\n",
       "[301 rows x 3 columns]"
      ]
     },
     "execution_count": 112,
     "metadata": {},
     "output_type": "execute_result"
    }
   ],
   "source": [
    "classes"
   ]
  },
  {
   "cell_type": "code",
   "execution_count": 113,
   "metadata": {},
   "outputs": [],
   "source": [
    "classes[\"ttl_wealth\"] = classes[[\"time_step\"]].merge(\n",
    "    right = classes.groupby([\"time_step\"], as_index = False).wealth.sum(),\n",
    "    on = [\"time_step\"],\n",
    "    how=\"left\")[\"wealth\"]\n",
    "classes[\"class_pct\"] = classes.wealth / classes.ttl_wealth"
   ]
  },
  {
   "cell_type": "code",
   "execution_count": 114,
   "metadata": {},
   "outputs": [
    {
     "data": {
      "text/html": [
       "<div>\n",
       "<style scoped>\n",
       "    .dataframe tbody tr th:only-of-type {\n",
       "        vertical-align: middle;\n",
       "    }\n",
       "\n",
       "    .dataframe tbody tr th {\n",
       "        vertical-align: top;\n",
       "    }\n",
       "\n",
       "    .dataframe thead th {\n",
       "        text-align: right;\n",
       "    }\n",
       "</style>\n",
       "<table border=\"1\" class=\"dataframe\">\n",
       "  <thead>\n",
       "    <tr style=\"text-align: right;\">\n",
       "      <th></th>\n",
       "      <th>time_step</th>\n",
       "      <th>class</th>\n",
       "      <th>wealth</th>\n",
       "      <th>ttl_wealth</th>\n",
       "      <th>class_pct</th>\n",
       "    </tr>\n",
       "  </thead>\n",
       "  <tbody>\n",
       "    <tr>\n",
       "      <th>0</th>\n",
       "      <td>0</td>\n",
       "      <td>middle</td>\n",
       "      <td>1000.000000</td>\n",
       "      <td>1000.000000</td>\n",
       "      <td>1.000000</td>\n",
       "    </tr>\n",
       "    <tr>\n",
       "      <th>1</th>\n",
       "      <td>1</td>\n",
       "      <td>higher</td>\n",
       "      <td>117.484708</td>\n",
       "      <td>999.394155</td>\n",
       "      <td>0.117556</td>\n",
       "    </tr>\n",
       "    <tr>\n",
       "      <th>2</th>\n",
       "      <td>1</td>\n",
       "      <td>lower</td>\n",
       "      <td>459.033537</td>\n",
       "      <td>999.394155</td>\n",
       "      <td>0.459312</td>\n",
       "    </tr>\n",
       "    <tr>\n",
       "      <th>3</th>\n",
       "      <td>1</td>\n",
       "      <td>middle</td>\n",
       "      <td>422.875910</td>\n",
       "      <td>999.394155</td>\n",
       "      <td>0.423132</td>\n",
       "    </tr>\n",
       "    <tr>\n",
       "      <th>4</th>\n",
       "      <td>2</td>\n",
       "      <td>higher</td>\n",
       "      <td>124.071891</td>\n",
       "      <td>994.649855</td>\n",
       "      <td>0.124739</td>\n",
       "    </tr>\n",
       "    <tr>\n",
       "      <th>...</th>\n",
       "      <td>...</td>\n",
       "      <td>...</td>\n",
       "      <td>...</td>\n",
       "      <td>...</td>\n",
       "      <td>...</td>\n",
       "    </tr>\n",
       "    <tr>\n",
       "      <th>296</th>\n",
       "      <td>99</td>\n",
       "      <td>lower</td>\n",
       "      <td>156.464277</td>\n",
       "      <td>1054.668112</td>\n",
       "      <td>0.148354</td>\n",
       "    </tr>\n",
       "    <tr>\n",
       "      <th>297</th>\n",
       "      <td>99</td>\n",
       "      <td>middle</td>\n",
       "      <td>446.765302</td>\n",
       "      <td>1054.668112</td>\n",
       "      <td>0.423607</td>\n",
       "    </tr>\n",
       "    <tr>\n",
       "      <th>298</th>\n",
       "      <td>100</td>\n",
       "      <td>higher</td>\n",
       "      <td>456.780684</td>\n",
       "      <td>1057.862659</td>\n",
       "      <td>0.431796</td>\n",
       "    </tr>\n",
       "    <tr>\n",
       "      <th>299</th>\n",
       "      <td>100</td>\n",
       "      <td>lower</td>\n",
       "      <td>156.482404</td>\n",
       "      <td>1057.862659</td>\n",
       "      <td>0.147923</td>\n",
       "    </tr>\n",
       "    <tr>\n",
       "      <th>300</th>\n",
       "      <td>100</td>\n",
       "      <td>middle</td>\n",
       "      <td>444.599571</td>\n",
       "      <td>1057.862659</td>\n",
       "      <td>0.420281</td>\n",
       "    </tr>\n",
       "  </tbody>\n",
       "</table>\n",
       "<p>301 rows × 5 columns</p>\n",
       "</div>"
      ],
      "text/plain": [
       "     time_step   class       wealth   ttl_wealth  class_pct\n",
       "0            0  middle  1000.000000  1000.000000   1.000000\n",
       "1            1  higher   117.484708   999.394155   0.117556\n",
       "2            1   lower   459.033537   999.394155   0.459312\n",
       "3            1  middle   422.875910   999.394155   0.423132\n",
       "4            2  higher   124.071891   994.649855   0.124739\n",
       "..         ...     ...          ...          ...        ...\n",
       "296         99   lower   156.464277  1054.668112   0.148354\n",
       "297         99  middle   446.765302  1054.668112   0.423607\n",
       "298        100  higher   456.780684  1057.862659   0.431796\n",
       "299        100   lower   156.482404  1057.862659   0.147923\n",
       "300        100  middle   444.599571  1057.862659   0.420281\n",
       "\n",
       "[301 rows x 5 columns]"
      ]
     },
     "execution_count": 114,
     "metadata": {},
     "output_type": "execute_result"
    }
   ],
   "source": [
    "classes"
   ]
  },
  {
   "cell_type": "code",
   "execution_count": 115,
   "metadata": {},
   "outputs": [
    {
     "data": {
      "image/png": "[encoded data removed]",
      "text/plain": [
       "<Figure size 720x360 with 1 Axes>"
      ]
     },
     "metadata": {
      "needs_background": "light"
     },
     "output_type": "display_data"
    }
   ],
   "source": [
    "fig, ax = plt.subplots(figsize=(10, 5))\n",
    "for c in [\"lower\", \"middle\", \"higher\"]:\n",
    "    class_data = classes[(classes[\"class\"] == c) & (classes.time_step > 0)].sort_values(\"time_step\")\n",
    "    ax.plot(class_data.time_step, class_data.class_pct, label = c)\n",
    "ax.legend();"
   ]
  },
  {
   "cell_type": "code",
   "execution_count": null,
   "metadata": {},
   "outputs": [],
   "source": []
  },
  {
   "cell_type": "code",
   "execution_count": null,
   "metadata": {},
   "outputs": [],
   "source": []
  },
  {
   "cell_type": "code",
   "execution_count": null,
   "metadata": {},
   "outputs": [],
   "source": []
  }
 ],
 "metadata": {
  "kernelspec": {
   "display_name": "local-venv",
   "language": "python",
   "name": "local-venv"
  },
  "language_info": {
   "codemirror_mode": {
    "name": "ipython",
    "version": 3
   },
   "file_extension": ".py",
   "mimetype": "text/x-python",
   "name": "python",
   "nbconvert_exporter": "python",
   "pygments_lexer": "ipython3",
   "version": "3.6.9"
  }
 },
 "nbformat": 4,
 "nbformat_minor": 4
}
